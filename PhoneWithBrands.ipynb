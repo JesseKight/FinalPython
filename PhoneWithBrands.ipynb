{
 "cells": [
  {
   "cell_type": "code",
   "execution_count": 1,
   "id": "5ce6bb9f",
   "metadata": {},
   "outputs": [],
   "source": [
    "import pandas as pd\n",
    "import numpy as np"
   ]
  },
  {
   "cell_type": "code",
   "execution_count": 7,
   "id": "af2614cb",
   "metadata": {},
   "outputs": [],
   "source": [
    "data_df=pd.read_csv('/Users/jesse/Documents/GitHub/FinalPython/data/Phones.csv')"
   ]
  },
  {
   "cell_type": "code",
   "execution_count": 8,
   "id": "484c1bb2",
   "metadata": {},
   "outputs": [
    {
     "data": {
      "text/html": [
       "<div>\n",
       "<style scoped>\n",
       "    .dataframe tbody tr th:only-of-type {\n",
       "        vertical-align: middle;\n",
       "    }\n",
       "\n",
       "    .dataframe tbody tr th {\n",
       "        vertical-align: top;\n",
       "    }\n",
       "\n",
       "    .dataframe thead th {\n",
       "        text-align: right;\n",
       "    }\n",
       "</style>\n",
       "<table border=\"1\" class=\"dataframe\">\n",
       "  <thead>\n",
       "    <tr style=\"text-align: right;\">\n",
       "      <th></th>\n",
       "      <th>Brand</th>\n",
       "      <th>Storage</th>\n",
       "      <th>RAM</th>\n",
       "      <th>Screen Size (inches)</th>\n",
       "      <th>Battery Capacity (mAh)</th>\n",
       "      <th>Price</th>\n",
       "    </tr>\n",
       "  </thead>\n",
       "  <tbody>\n",
       "    <tr>\n",
       "      <th>0</th>\n",
       "      <td>1</td>\n",
       "      <td>128</td>\n",
       "      <td>6</td>\n",
       "      <td>6.1</td>\n",
       "      <td>3095</td>\n",
       "      <td>999</td>\n",
       "    </tr>\n",
       "    <tr>\n",
       "      <th>1</th>\n",
       "      <td>1</td>\n",
       "      <td>128</td>\n",
       "      <td>4</td>\n",
       "      <td>6.1</td>\n",
       "      <td>2815</td>\n",
       "      <td>1199</td>\n",
       "    </tr>\n",
       "    <tr>\n",
       "      <th>2</th>\n",
       "      <td>1</td>\n",
       "      <td>64</td>\n",
       "      <td>4</td>\n",
       "      <td>5.4</td>\n",
       "      <td>2227</td>\n",
       "      <td>899</td>\n",
       "    </tr>\n",
       "    <tr>\n",
       "      <th>3</th>\n",
       "      <td>1</td>\n",
       "      <td>64</td>\n",
       "      <td>4</td>\n",
       "      <td>6.1</td>\n",
       "      <td>3110</td>\n",
       "      <td>279</td>\n",
       "    </tr>\n",
       "    <tr>\n",
       "      <th>4</th>\n",
       "      <td>1</td>\n",
       "      <td>64</td>\n",
       "      <td>3</td>\n",
       "      <td>4.7</td>\n",
       "      <td>1821</td>\n",
       "      <td>799</td>\n",
       "    </tr>\n",
       "  </tbody>\n",
       "</table>\n",
       "</div>"
      ],
      "text/plain": [
       "   Brand  Storage   RAM   Screen Size (inches)  Battery Capacity (mAh)  Price\n",
       "0      1       128     6                   6.1                    3095    999\n",
       "1      1       128     4                   6.1                    2815   1199\n",
       "2      1        64     4                   5.4                    2227    899\n",
       "3      1        64     4                   6.1                    3110    279\n",
       "4      1        64     3                   4.7                    1821    799"
      ]
     },
     "execution_count": 8,
     "metadata": {},
     "output_type": "execute_result"
    }
   ],
   "source": [
    "data_df.head()"
   ]
  },
  {
   "cell_type": "code",
   "execution_count": 9,
   "id": "951222b2",
   "metadata": {},
   "outputs": [],
   "source": [
    "data_df = data_df.sample(frac = 1)\n"
   ]
  },
  {
   "cell_type": "code",
   "execution_count": 10,
   "id": "1881bed1",
   "metadata": {},
   "outputs": [
    {
     "data": {
      "text/html": [
       "<div>\n",
       "<style scoped>\n",
       "    .dataframe tbody tr th:only-of-type {\n",
       "        vertical-align: middle;\n",
       "    }\n",
       "\n",
       "    .dataframe tbody tr th {\n",
       "        vertical-align: top;\n",
       "    }\n",
       "\n",
       "    .dataframe thead th {\n",
       "        text-align: right;\n",
       "    }\n",
       "</style>\n",
       "<table border=\"1\" class=\"dataframe\">\n",
       "  <thead>\n",
       "    <tr style=\"text-align: right;\">\n",
       "      <th></th>\n",
       "      <th>Brand</th>\n",
       "      <th>Storage</th>\n",
       "      <th>RAM</th>\n",
       "      <th>Screen Size (inches)</th>\n",
       "      <th>Battery Capacity (mAh)</th>\n",
       "      <th>Price</th>\n",
       "    </tr>\n",
       "  </thead>\n",
       "  <tbody>\n",
       "    <tr>\n",
       "      <th>191</th>\n",
       "      <td>12</td>\n",
       "      <td>64</td>\n",
       "      <td>4</td>\n",
       "      <td>6.50</td>\n",
       "      <td>5000</td>\n",
       "      <td>189</td>\n",
       "    </tr>\n",
       "    <tr>\n",
       "      <th>237</th>\n",
       "      <td>13</td>\n",
       "      <td>128</td>\n",
       "      <td>4</td>\n",
       "      <td>6.60</td>\n",
       "      <td>5000</td>\n",
       "      <td>209</td>\n",
       "    </tr>\n",
       "    <tr>\n",
       "      <th>311</th>\n",
       "      <td>15</td>\n",
       "      <td>128</td>\n",
       "      <td>4</td>\n",
       "      <td>6.51</td>\n",
       "      <td>5000</td>\n",
       "      <td>1099</td>\n",
       "    </tr>\n",
       "    <tr>\n",
       "      <th>389</th>\n",
       "      <td>16</td>\n",
       "      <td>128</td>\n",
       "      <td>6</td>\n",
       "      <td>6.67</td>\n",
       "      <td>5020</td>\n",
       "      <td>349</td>\n",
       "    </tr>\n",
       "    <tr>\n",
       "      <th>109</th>\n",
       "      <td>9</td>\n",
       "      <td>32</td>\n",
       "      <td>2</td>\n",
       "      <td>6.50</td>\n",
       "      <td>4500</td>\n",
       "      <td>199</td>\n",
       "    </tr>\n",
       "  </tbody>\n",
       "</table>\n",
       "</div>"
      ],
      "text/plain": [
       "     Brand  Storage   RAM   Screen Size (inches)  Battery Capacity (mAh)  \\\n",
       "191     12        64     4                  6.50                    5000   \n",
       "237     13       128     4                  6.60                    5000   \n",
       "311     15       128     4                  6.51                    5000   \n",
       "389     16       128     6                  6.67                    5020   \n",
       "109      9        32     2                  6.50                    4500   \n",
       "\n",
       "     Price  \n",
       "191    189  \n",
       "237    209  \n",
       "311   1099  \n",
       "389    349  \n",
       "109    199  "
      ]
     },
     "execution_count": 10,
     "metadata": {},
     "output_type": "execute_result"
    }
   ],
   "source": [
    "data_df.head()"
   ]
  },
  {
   "cell_type": "code",
   "execution_count": 11,
   "id": "bcd284bc",
   "metadata": {},
   "outputs": [
    {
     "data": {
      "text/html": [
       "<div>\n",
       "<style scoped>\n",
       "    .dataframe tbody tr th:only-of-type {\n",
       "        vertical-align: middle;\n",
       "    }\n",
       "\n",
       "    .dataframe tbody tr th {\n",
       "        vertical-align: top;\n",
       "    }\n",
       "\n",
       "    .dataframe thead th {\n",
       "        text-align: right;\n",
       "    }\n",
       "</style>\n",
       "<table border=\"1\" class=\"dataframe\">\n",
       "  <thead>\n",
       "    <tr style=\"text-align: right;\">\n",
       "      <th></th>\n",
       "      <th>Brand</th>\n",
       "      <th>Storage</th>\n",
       "      <th>RAM</th>\n",
       "      <th>Screen Size (inches)</th>\n",
       "      <th>Battery Capacity (mAh)</th>\n",
       "      <th>Price</th>\n",
       "    </tr>\n",
       "  </thead>\n",
       "  <tbody>\n",
       "    <tr>\n",
       "      <th>191</th>\n",
       "      <td>12</td>\n",
       "      <td>64</td>\n",
       "      <td>4</td>\n",
       "      <td>6.50</td>\n",
       "      <td>5000</td>\n",
       "      <td>189</td>\n",
       "    </tr>\n",
       "    <tr>\n",
       "      <th>237</th>\n",
       "      <td>13</td>\n",
       "      <td>128</td>\n",
       "      <td>4</td>\n",
       "      <td>6.60</td>\n",
       "      <td>5000</td>\n",
       "      <td>209</td>\n",
       "    </tr>\n",
       "    <tr>\n",
       "      <th>311</th>\n",
       "      <td>15</td>\n",
       "      <td>128</td>\n",
       "      <td>4</td>\n",
       "      <td>6.51</td>\n",
       "      <td>5000</td>\n",
       "      <td>1099</td>\n",
       "    </tr>\n",
       "    <tr>\n",
       "      <th>389</th>\n",
       "      <td>16</td>\n",
       "      <td>128</td>\n",
       "      <td>6</td>\n",
       "      <td>6.67</td>\n",
       "      <td>5020</td>\n",
       "      <td>349</td>\n",
       "    </tr>\n",
       "    <tr>\n",
       "      <th>109</th>\n",
       "      <td>9</td>\n",
       "      <td>32</td>\n",
       "      <td>2</td>\n",
       "      <td>6.50</td>\n",
       "      <td>4500</td>\n",
       "      <td>199</td>\n",
       "    </tr>\n",
       "  </tbody>\n",
       "</table>\n",
       "</div>"
      ],
      "text/plain": [
       "     Brand  Storage   RAM   Screen Size (inches)  Battery Capacity (mAh)  \\\n",
       "191     12        64     4                  6.50                    5000   \n",
       "237     13       128     4                  6.60                    5000   \n",
       "311     15       128     4                  6.51                    5000   \n",
       "389     16       128     6                  6.67                    5020   \n",
       "109      9        32     2                  6.50                    4500   \n",
       "\n",
       "     Price  \n",
       "191    189  \n",
       "237    209  \n",
       "311   1099  \n",
       "389    349  \n",
       "109    199  "
      ]
     },
     "execution_count": 11,
     "metadata": {},
     "output_type": "execute_result"
    }
   ],
   "source": [
    "data_df.head()"
   ]
  },
  {
   "cell_type": "code",
   "execution_count": 12,
   "id": "e0976358",
   "metadata": {},
   "outputs": [],
   "source": [
    "x=data_df.drop(['Price'], axis=1).values\n",
    "y=data_df['Price'].values"
   ]
  },
  {
   "cell_type": "code",
   "execution_count": 13,
   "id": "91a7dcc2",
   "metadata": {},
   "outputs": [
    {
     "name": "stdout",
     "output_type": "stream",
     "text": [
      "[[1.200e+01 6.400e+01 4.000e+00 6.500e+00 5.000e+03]\n",
      " [1.300e+01 1.280e+02 4.000e+00 6.600e+00 5.000e+03]\n",
      " [1.500e+01 1.280e+02 4.000e+00 6.510e+00 5.000e+03]\n",
      " ...\n",
      " [1.500e+01 2.560e+02 1.200e+01 6.560e+00 4.200e+03]\n",
      " [1.000e+00 2.560e+02 4.000e+00 5.400e+00 2.227e+03]\n",
      " [1.600e+01 1.280e+02 6.000e+00 6.670e+00 5.020e+03]]\n"
     ]
    }
   ],
   "source": [
    "print(x)"
   ]
  },
  {
   "cell_type": "code",
   "execution_count": 14,
   "id": "fddadd94",
   "metadata": {},
   "outputs": [
    {
     "name": "stdout",
     "output_type": "stream",
     "text": [
      "[ 189  209 1099  349  199  319  399  299  279  299  149 1199  449  399\n",
      "  199  199  399 1049  229  459  329  199 1199  199  229  299  199  139\n",
      "  499  139  189  179  399  219  199  279  189  699  229 1099  749  449\n",
      "  599  199  249  699  279  999  699  699  299  369  249  249 1299  549\n",
      "  299  249  179  329  249  599  429  549  219  329  219  299  349  179\n",
      "  329  699 1299  149  199 1199  399  179  699  149  449  149  139  279\n",
      "  699  499  159  449  329  299  699  149  159 1099  649  699  179  199\n",
      "  169  699  159  239  149 1099  159  699  149  749  599 1199  329  799\n",
      "  279  139  449  449  299  999   99  399  169  159  299  429  369  199\n",
      "  159  329  599  399  199  899  329  199  499  529  449  699  399  229\n",
      "  109  899  449  169  309  799  179  129  229  599  329  399  749  279\n",
      "  149  269 1099 1199  469  969  399  369  249  699  209  149  449  279\n",
      "  199  399  449  199  279  139  169  119  139  249  299  249  189  999\n",
      "  399  179  249  549  269  299  799  399  999 1399  179  299  499  249\n",
      "  999  179  199  449  419  399  399  329  179  399 1199  999  799  499\n",
      "  329  329  799  179  399  299  249  379  279  399  199 1399  799  149\n",
      "  199  169  329  239  299  279 1099  289   99 1199  279  499  229  469\n",
      "  269  249  299  149  269  219  179  299  249  199  299  359  599  699\n",
      "  289  279  149  129  229  999  339  139  239 1299   99  429  319  219\n",
      "  249  299  319 1199  149  229  499  229  249  249  849  149  189  179\n",
      "   99  179  199  499  249  279   99  649  199  179  139 1099   99  149\n",
      "  239  179  799  129  199  179  799  169  249  389  279  329  599   99\n",
      "  799  149  249  349  699  249  699  279  189  899  149  659  159  179\n",
      "  799  399  129  279  129  449  899  229  799  999  369  169  199  699\n",
      "  239  299  199  449  229   99  399  379  179  319  269  999  179  329\n",
      "  799  219  279  139  149  729  349  449  399  139  899  699  199  219\n",
      "  799  259  279  329  279  749  299  699  799  349  149  199  279  999\n",
      "  179  329  279  349  189  269  130  239  119  279  449  729  179  499\n",
      "  149  449  279  429  999  269  199  349  199  119  969  279  299]\n"
     ]
    }
   ],
   "source": [
    "print(y)"
   ]
  },
  {
   "cell_type": "code",
   "execution_count": 15,
   "id": "65209709",
   "metadata": {},
   "outputs": [
    {
     "name": "stdout",
     "output_type": "stream",
     "text": [
      "[[1.200e+01 6.400e+01 4.000e+00 6.500e+00 5.000e+03]\n",
      " [1.300e+01 1.280e+02 4.000e+00 6.600e+00 5.000e+03]\n",
      " [1.500e+01 1.280e+02 4.000e+00 6.510e+00 5.000e+03]\n",
      " ...\n",
      " [1.500e+01 2.560e+02 1.200e+01 6.560e+00 4.200e+03]\n",
      " [1.000e+00 2.560e+02 4.000e+00 5.400e+00 2.227e+03]\n",
      " [1.600e+01 1.280e+02 6.000e+00 6.670e+00 5.020e+03]]\n"
     ]
    }
   ],
   "source": [
    "print(x)"
   ]
  },
  {
   "cell_type": "code",
   "execution_count": 34,
   "id": "80b0a206",
   "metadata": {},
   "outputs": [],
   "source": [
    "from sklearn.model_selection import train_test_split\n",
    "x_train,x_test,y_train,y_test=train_test_split(x,y,test_size=0.3,random_state=0)"
   ]
  },
  {
   "cell_type": "code",
   "execution_count": 35,
   "id": "d1120738",
   "metadata": {},
   "outputs": [
    {
     "data": {
      "text/plain": [
       "LinearRegression()"
      ]
     },
     "execution_count": 35,
     "metadata": {},
     "output_type": "execute_result"
    }
   ],
   "source": [
    "from sklearn.linear_model import LinearRegression\n",
    "ml=LinearRegression()\n",
    "ml.fit(x_train,y_train)"
   ]
  },
  {
   "cell_type": "code",
   "execution_count": 36,
   "id": "b6ea7794",
   "metadata": {},
   "outputs": [
    {
     "name": "stdout",
     "output_type": "stream",
     "text": [
      "[435.36851799 405.66450684 419.47703757 426.75155683 437.87179991\n",
      " 377.74679616 404.65638085 368.92722211 464.1642761  400.74216979\n",
      " 488.18421793 313.30311962 427.79965502 410.87256302 358.25817389\n",
      " 374.25941973 421.72460858 435.36851799 428.54656329 452.02201481\n",
      " 355.20826565 307.94575587 397.83442614 399.98728232 371.33671717\n",
      " 397.7819811  401.26088049 400.74216979 384.99936638 415.33012381\n",
      " 397.7819811  517.76877958 384.31717091 370.89561588 459.86070612\n",
      " 406.09874142 452.79514514 426.75155683 365.94435761 427.79965502\n",
      " 425.42479699 363.69265564 398.39083164 397.83442614 393.15465082\n",
      " 421.72460858 385.68156185 379.18387909 347.82012628 397.83442614\n",
      " 408.30661682 390.30412218 378.50168362 341.72997703 397.7819811\n",
      " 474.53787542 285.95684966 399.98728232 411.21436046 382.7166032\n",
      " 389.49613673 428.54656329 448.74046304 356.86577955 436.47455547\n",
      " 388.31868675 447.77361522 427.79965502 395.64083754 399.98728232\n",
      " 352.59364496 415.33012381 467.33721947 393.15465082 436.1516682\n",
      " 423.40534181 337.54586381 365.94435761 379.27197427 356.63864119\n",
      " 389.52091675 415.33012381 400.74216979 302.76243785 459.86070612\n",
      " 375.59393998 305.67018149 401.29857528 358.20643549 439.75006793\n",
      " 365.94435761 420.93606954 397.7819811  352.72443013 408.97812542\n",
      " 306.06793584 390.15390457 411.93650635 396.11960947 411.28656097\n",
      " 342.08475497 430.00972621 401.4164356  453.91800307 403.14498772\n",
      " 393.15465082 390.88879573 397.7819811  544.33185922 417.37671023\n",
      " 452.02201481 435.36851799 374.13070325 443.53661525 365.0801286\n",
      " 398.39083164 427.79965502 425.42479699 401.19993394 393.15465082\n",
      " 421.72460858 324.2851471 ]\n"
     ]
    }
   ],
   "source": [
    "y_pred=ml.predict(x_test)\n",
    "print(y_pred)"
   ]
  },
  {
   "cell_type": "code",
   "execution_count": 37,
   "id": "360cf703",
   "metadata": {},
   "outputs": [
    {
     "data": {
      "text/plain": [
       "array([390.30412218])"
      ]
     },
     "execution_count": 37,
     "metadata": {},
     "output_type": "execute_result"
    }
   ],
   "source": [
    "ml.predict([[12,64,4,6.50,5000]])"
   ]
  },
  {
   "cell_type": "code",
   "execution_count": 38,
   "id": "b15b78c5",
   "metadata": {},
   "outputs": [
    {
     "data": {
      "text/plain": [
       "0.03601480945153279"
      ]
     },
     "execution_count": 38,
     "metadata": {},
     "output_type": "execute_result"
    }
   ],
   "source": [
    "from sklearn.metrics import r2_score\n",
    "r2_score(y_test,y_pred)"
   ]
  },
  {
   "cell_type": "code",
   "execution_count": 39,
   "id": "cc32b9ac",
   "metadata": {},
   "outputs": [
    {
     "data": {
      "text/plain": [
       "Text(0.5, 1.0, 'Actual vs. Predicted')"
      ]
     },
     "execution_count": 39,
     "metadata": {},
     "output_type": "execute_result"
    },
    {
     "data": {
      "image/png": "[encoded data removed]",
      "text/plain": [
       "<Figure size 1500x1000 with 1 Axes>"
      ]
     },
     "metadata": {},
     "output_type": "display_data"
    }
   ],
   "source": [
    "import matplotlib.pyplot as plt\n",
    "plt.figure(figsize=(15,10))\n",
    "plt.scatter(y_test,y_pred)\n",
    "plt.xlabel('Actual')\n",
    "plt.ylabel('Predicted')\n",
    "plt.title('Actual vs. Predicted')"
   ]
  },
  {
   "cell_type": "code",
   "execution_count": 40,
   "id": "b737df1c",
   "metadata": {},
   "outputs": [
    {
     "data": {
      "text/html": [
       "<div>\n",
       "<style scoped>\n",
       "    .dataframe tbody tr th:only-of-type {\n",
       "        vertical-align: middle;\n",
       "    }\n",
       "\n",
       "    .dataframe tbody tr th {\n",
       "        vertical-align: top;\n",
       "    }\n",
       "\n",
       "    .dataframe thead th {\n",
       "        text-align: right;\n",
       "    }\n",
       "</style>\n",
       "<table border=\"1\" class=\"dataframe\">\n",
       "  <thead>\n",
       "    <tr style=\"text-align: right;\">\n",
       "      <th></th>\n",
       "      <th>Actual Value</th>\n",
       "      <th>Predicted value</th>\n",
       "      <th>Difference</th>\n",
       "    </tr>\n",
       "  </thead>\n",
       "  <tbody>\n",
       "    <tr>\n",
       "      <th>0</th>\n",
       "      <td>119</td>\n",
       "      <td>435.368518</td>\n",
       "      <td>-316.368518</td>\n",
       "    </tr>\n",
       "    <tr>\n",
       "      <th>1</th>\n",
       "      <td>269</td>\n",
       "      <td>405.664507</td>\n",
       "      <td>-136.664507</td>\n",
       "    </tr>\n",
       "    <tr>\n",
       "      <th>2</th>\n",
       "      <td>249</td>\n",
       "      <td>419.477038</td>\n",
       "      <td>-170.477038</td>\n",
       "    </tr>\n",
       "    <tr>\n",
       "      <th>3</th>\n",
       "      <td>1099</td>\n",
       "      <td>426.751557</td>\n",
       "      <td>672.248443</td>\n",
       "    </tr>\n",
       "    <tr>\n",
       "      <th>4</th>\n",
       "      <td>499</td>\n",
       "      <td>437.871800</td>\n",
       "      <td>61.128200</td>\n",
       "    </tr>\n",
       "    <tr>\n",
       "      <th>5</th>\n",
       "      <td>199</td>\n",
       "      <td>377.746796</td>\n",
       "      <td>-178.746796</td>\n",
       "    </tr>\n",
       "    <tr>\n",
       "      <th>6</th>\n",
       "      <td>149</td>\n",
       "      <td>404.656381</td>\n",
       "      <td>-255.656381</td>\n",
       "    </tr>\n",
       "    <tr>\n",
       "      <th>7</th>\n",
       "      <td>1299</td>\n",
       "      <td>368.927222</td>\n",
       "      <td>930.072778</td>\n",
       "    </tr>\n",
       "    <tr>\n",
       "      <th>8</th>\n",
       "      <td>99</td>\n",
       "      <td>464.164276</td>\n",
       "      <td>-365.164276</td>\n",
       "    </tr>\n",
       "    <tr>\n",
       "      <th>9</th>\n",
       "      <td>149</td>\n",
       "      <td>400.742170</td>\n",
       "      <td>-251.742170</td>\n",
       "    </tr>\n",
       "    <tr>\n",
       "      <th>10</th>\n",
       "      <td>329</td>\n",
       "      <td>488.184218</td>\n",
       "      <td>-159.184218</td>\n",
       "    </tr>\n",
       "    <tr>\n",
       "      <th>11</th>\n",
       "      <td>199</td>\n",
       "      <td>313.303120</td>\n",
       "      <td>-114.303120</td>\n",
       "    </tr>\n",
       "    <tr>\n",
       "      <th>12</th>\n",
       "      <td>229</td>\n",
       "      <td>427.799655</td>\n",
       "      <td>-198.799655</td>\n",
       "    </tr>\n",
       "    <tr>\n",
       "      <th>13</th>\n",
       "      <td>449</td>\n",
       "      <td>410.872563</td>\n",
       "      <td>38.127437</td>\n",
       "    </tr>\n",
       "    <tr>\n",
       "      <th>14</th>\n",
       "      <td>449</td>\n",
       "      <td>358.258174</td>\n",
       "      <td>90.741826</td>\n",
       "    </tr>\n",
       "    <tr>\n",
       "      <th>15</th>\n",
       "      <td>529</td>\n",
       "      <td>374.259420</td>\n",
       "      <td>154.740580</td>\n",
       "    </tr>\n",
       "    <tr>\n",
       "      <th>16</th>\n",
       "      <td>329</td>\n",
       "      <td>421.724609</td>\n",
       "      <td>-92.724609</td>\n",
       "    </tr>\n",
       "    <tr>\n",
       "      <th>17</th>\n",
       "      <td>249</td>\n",
       "      <td>435.368518</td>\n",
       "      <td>-186.368518</td>\n",
       "    </tr>\n",
       "    <tr>\n",
       "      <th>18</th>\n",
       "      <td>149</td>\n",
       "      <td>428.546563</td>\n",
       "      <td>-279.546563</td>\n",
       "    </tr>\n",
       "    <tr>\n",
       "      <th>19</th>\n",
       "      <td>699</td>\n",
       "      <td>452.022015</td>\n",
       "      <td>246.977985</td>\n",
       "    </tr>\n",
       "  </tbody>\n",
       "</table>\n",
       "</div>"
      ],
      "text/plain": [
       "    Actual Value  Predicted value  Difference\n",
       "0            119       435.368518 -316.368518\n",
       "1            269       405.664507 -136.664507\n",
       "2            249       419.477038 -170.477038\n",
       "3           1099       426.751557  672.248443\n",
       "4            499       437.871800   61.128200\n",
       "5            199       377.746796 -178.746796\n",
       "6            149       404.656381 -255.656381\n",
       "7           1299       368.927222  930.072778\n",
       "8             99       464.164276 -365.164276\n",
       "9            149       400.742170 -251.742170\n",
       "10           329       488.184218 -159.184218\n",
       "11           199       313.303120 -114.303120\n",
       "12           229       427.799655 -198.799655\n",
       "13           449       410.872563   38.127437\n",
       "14           449       358.258174   90.741826\n",
       "15           529       374.259420  154.740580\n",
       "16           329       421.724609  -92.724609\n",
       "17           249       435.368518 -186.368518\n",
       "18           149       428.546563 -279.546563\n",
       "19           699       452.022015  246.977985"
      ]
     },
     "execution_count": 40,
     "metadata": {},
     "output_type": "execute_result"
    }
   ],
   "source": [
    "pred_y_df=pd.DataFrame({'Actual Value':y_test,'Predicted value':y_pred, 'Difference':y_test-y_pred})\n",
    "pred_y_df[0:20]"
   ]
  },
  {
   "cell_type": "code",
   "execution_count": null,
   "id": "694311cb",
   "metadata": {},
   "outputs": [],
   "source": []
  }
 ],
 "metadata": {
  "kernelspec": {
   "display_name": "Python 3 (ipykernel)",
   "language": "python",
   "name": "python3"
  },
  "language_info": {
   "codemirror_mode": {
    "name": "ipython",
    "version": 3
   },
   "file_extension": ".py",
   "mimetype": "text/x-python",
   "name": "python",
   "nbconvert_exporter": "python",
   "pygments_lexer": "ipython3",
   "version": "3.9.13"
  }
 },
 "nbformat": 4,
 "nbformat_minor": 5
}
