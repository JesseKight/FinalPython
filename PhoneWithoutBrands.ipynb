{
 "cells": [
  {
   "cell_type": "code",
   "execution_count": 1,
   "id": "bcf122e3",
   "metadata": {},
   "outputs": [],
   "source": [
    "import pandas as pd\n",
    "import numpy as np"
   ]
  },
  {
   "cell_type": "code",
   "execution_count": 2,
   "id": "7a73c437",
   "metadata": {},
   "outputs": [],
   "source": [
    "data_df=pd.read_csv('/Users/jesse/Documents/GitHub/FinalPython/data/phone.csv')"
   ]
  },
  {
   "cell_type": "code",
   "execution_count": 3,
   "id": "1d7156ed",
   "metadata": {},
   "outputs": [
    {
     "data": {
      "text/html": [
       "<div>\n",
       "<style scoped>\n",
       "    .dataframe tbody tr th:only-of-type {\n",
       "        vertical-align: middle;\n",
       "    }\n",
       "\n",
       "    .dataframe tbody tr th {\n",
       "        vertical-align: top;\n",
       "    }\n",
       "\n",
       "    .dataframe thead th {\n",
       "        text-align: right;\n",
       "    }\n",
       "</style>\n",
       "<table border=\"1\" class=\"dataframe\">\n",
       "  <thead>\n",
       "    <tr style=\"text-align: right;\">\n",
       "      <th></th>\n",
       "      <th>Storage</th>\n",
       "      <th>RAM</th>\n",
       "      <th>Screen</th>\n",
       "      <th>Battery</th>\n",
       "      <th>Price</th>\n",
       "    </tr>\n",
       "  </thead>\n",
       "  <tbody>\n",
       "    <tr>\n",
       "      <th>0</th>\n",
       "      <td>128</td>\n",
       "      <td>6</td>\n",
       "      <td>6.10</td>\n",
       "      <td>3095</td>\n",
       "      <td>999</td>\n",
       "    </tr>\n",
       "    <tr>\n",
       "      <th>1</th>\n",
       "      <td>256</td>\n",
       "      <td>12</td>\n",
       "      <td>6.80</td>\n",
       "      <td>5000</td>\n",
       "      <td>1199</td>\n",
       "    </tr>\n",
       "    <tr>\n",
       "      <th>2</th>\n",
       "      <td>128</td>\n",
       "      <td>8</td>\n",
       "      <td>6.70</td>\n",
       "      <td>4500</td>\n",
       "      <td>899</td>\n",
       "    </tr>\n",
       "    <tr>\n",
       "      <th>3</th>\n",
       "      <td>128</td>\n",
       "      <td>6</td>\n",
       "      <td>6.67</td>\n",
       "      <td>5020</td>\n",
       "      <td>279</td>\n",
       "    </tr>\n",
       "    <tr>\n",
       "      <th>4</th>\n",
       "      <td>128</td>\n",
       "      <td>8</td>\n",
       "      <td>6.40</td>\n",
       "      <td>4614</td>\n",
       "      <td>799</td>\n",
       "    </tr>\n",
       "  </tbody>\n",
       "</table>\n",
       "</div>"
      ],
      "text/plain": [
       "   Storage   RAM  Screen  Battery  Price\n",
       "0       128    6    6.10     3095    999\n",
       "1       256   12    6.80     5000   1199\n",
       "2       128    8    6.70     4500    899\n",
       "3       128    6    6.67     5020    279\n",
       "4       128    8    6.40     4614    799"
      ]
     },
     "execution_count": 3,
     "metadata": {},
     "output_type": "execute_result"
    }
   ],
   "source": [
    "data_df.head()"
   ]
  },
  {
   "cell_type": "code",
   "execution_count": 4,
   "id": "e479742a",
   "metadata": {},
   "outputs": [],
   "source": [
    "data_df = data_df.sample(frac = 1)\n"
   ]
  },
  {
   "cell_type": "code",
   "execution_count": 5,
   "id": "79b6338b",
   "metadata": {},
   "outputs": [
    {
     "data": {
      "text/html": [
       "<div>\n",
       "<style scoped>\n",
       "    .dataframe tbody tr th:only-of-type {\n",
       "        vertical-align: middle;\n",
       "    }\n",
       "\n",
       "    .dataframe tbody tr th {\n",
       "        vertical-align: top;\n",
       "    }\n",
       "\n",
       "    .dataframe thead th {\n",
       "        text-align: right;\n",
       "    }\n",
       "</style>\n",
       "<table border=\"1\" class=\"dataframe\">\n",
       "  <thead>\n",
       "    <tr style=\"text-align: right;\">\n",
       "      <th></th>\n",
       "      <th>Storage</th>\n",
       "      <th>RAM</th>\n",
       "      <th>Screen</th>\n",
       "      <th>Battery</th>\n",
       "      <th>Price</th>\n",
       "    </tr>\n",
       "  </thead>\n",
       "  <tbody>\n",
       "    <tr>\n",
       "      <th>354</th>\n",
       "      <td>64</td>\n",
       "      <td>3</td>\n",
       "      <td>6.10</td>\n",
       "      <td>2942</td>\n",
       "      <td>499</td>\n",
       "    </tr>\n",
       "    <tr>\n",
       "      <th>108</th>\n",
       "      <td>32</td>\n",
       "      <td>2</td>\n",
       "      <td>6.50</td>\n",
       "      <td>5000</td>\n",
       "      <td>99</td>\n",
       "    </tr>\n",
       "    <tr>\n",
       "      <th>198</th>\n",
       "      <td>64</td>\n",
       "      <td>4</td>\n",
       "      <td>6.50</td>\n",
       "      <td>5000</td>\n",
       "      <td>119</td>\n",
       "    </tr>\n",
       "    <tr>\n",
       "      <th>39</th>\n",
       "      <td>64</td>\n",
       "      <td>3</td>\n",
       "      <td>6.10</td>\n",
       "      <td>2942</td>\n",
       "      <td>499</td>\n",
       "    </tr>\n",
       "    <tr>\n",
       "      <th>300</th>\n",
       "      <td>128</td>\n",
       "      <td>8</td>\n",
       "      <td>6.72</td>\n",
       "      <td>4000</td>\n",
       "      <td>699</td>\n",
       "    </tr>\n",
       "  </tbody>\n",
       "</table>\n",
       "</div>"
      ],
      "text/plain": [
       "     Storage   RAM  Screen  Battery  Price\n",
       "354        64    3    6.10     2942    499\n",
       "108        32    2    6.50     5000     99\n",
       "198        64    4    6.50     5000    119\n",
       "39         64    3    6.10     2942    499\n",
       "300       128    8    6.72     4000    699"
      ]
     },
     "execution_count": 5,
     "metadata": {},
     "output_type": "execute_result"
    }
   ],
   "source": [
    "data_df.head()"
   ]
  },
  {
   "cell_type": "code",
   "execution_count": 6,
   "id": "097212f6",
   "metadata": {},
   "outputs": [],
   "source": [
    "x=data_df.drop(['Price'], axis=1).values\n",
    "y=data_df['Price'].values"
   ]
  },
  {
   "cell_type": "code",
   "execution_count": 7,
   "id": "ae74b848",
   "metadata": {},
   "outputs": [
    {
     "name": "stdout",
     "output_type": "stream",
     "text": [
      "[[6.400e+01 3.000e+00 6.100e+00 2.942e+03]\n",
      " [3.200e+01 2.000e+00 6.500e+00 5.000e+03]\n",
      " [6.400e+01 4.000e+00 6.500e+00 5.000e+03]\n",
      " ...\n",
      " [2.560e+02 1.200e+01 6.550e+00 4.500e+03]\n",
      " [1.280e+02 8.000e+00 6.440e+00 4.000e+03]\n",
      " [1.280e+02 6.000e+00 6.500e+00 5.000e+03]]\n"
     ]
    }
   ],
   "source": [
    "print(x)"
   ]
  },
  {
   "cell_type": "code",
   "execution_count": 8,
   "id": "c84fb5a7",
   "metadata": {},
   "outputs": [
    {
     "name": "stdout",
     "output_type": "stream",
     "text": [
      "[ 499   99  119  499  699 1199  249 1099  179  599  699  369 1399  269\n",
      "  249  299  279  149  349 1099  139  149  169  999  139  269 1099  549\n",
      "  269  349  429  179  329  119  239  199  299  119  189  399  279  969\n",
      "  449  169  329  199 1199  329 1299  449  399  799  249  249  799  249\n",
      " 1399  379  449  189  159  139  249  599  379  159  319  229  429  279\n",
      "  209  999  199  149  199  219  449  399  189  299  299  339  149  229\n",
      "  699  449  139 1099  299  199  139  279  249  299  419  799  429  449\n",
      "  449  329  269  749  139  299  139  179  279  319  289  199  199  199\n",
      "  999  239  899  179  279  149  399  699  149  499  199  999  199  299\n",
      "  239  199 1299  249  179  229  299  199  319  899  179  299  649  279\n",
      "  319 1199  299  169 1099  159  149   99  199  799  389  299 1099  499\n",
      "  399  329  189  349  219  699  229  199  149  249  449  179  179  749\n",
      "  999  449  239  149  149  799  169  179  249  279  179  309  279  279\n",
      "  799  729  659  229  599  249  219  249  399  749  449  139  219 1199\n",
      " 1299  399  699  199  229  799  169 1199  149  429  799  399  729  999\n",
      "  329  239  179  329   99  999  449  209  149  130  999  699  799  249\n",
      "  149  249  469  279  999  249  349  249  199  269  699  449  299  179\n",
      "  289  999  199  169  699  169  149  499  139  249 1199  199  349 1199\n",
      "  849  179  199  299  549  229  399  699  699  449  329  459  259  699\n",
      "  999  149  189  159  799  369  499  599  329  799  199  269  799  699\n",
      "  179  499  399  279  149  179  699  329  129  239  399  329  199 1099\n",
      "  219  279  499  499  329  199  139   99  179  649  299  199  179  299\n",
      "  899  229  279  599  899  329  159  299  199  199  149  399  329  179\n",
      "  969  199  229  129  299  279  179  449  189  299  399  699  149  279\n",
      "  129   99  159  399   99  269  249  699  279  699  799  329  399  279\n",
      "  549  109  749  699   99 1199 1049  329  129  149  279  399  199  219\n",
      "  279  469  199  179  449  349  129  599  799  329  349  279  249   99\n",
      "  229  149  279  179  399  299  399  189  399  159  279  899  399  229\n",
      "  359  529  299  279  369  599  449  369  219  179  699  399  249]\n"
     ]
    }
   ],
   "source": [
    "print(y)"
   ]
  },
  {
   "cell_type": "code",
   "execution_count": 22,
   "id": "8863b2f1",
   "metadata": {},
   "outputs": [],
   "source": [
    "from sklearn.model_selection import train_test_split\n",
    "x_train,x_test,y_train,y_test=train_test_split(x,y,test_size=0.1,random_state=0)"
   ]
  },
  {
   "cell_type": "code",
   "execution_count": 23,
   "id": "0db85ad3",
   "metadata": {},
   "outputs": [
    {
     "data": {
      "text/plain": [
       "LinearRegression()"
      ]
     },
     "execution_count": 23,
     "metadata": {},
     "output_type": "execute_result"
    }
   ],
   "source": [
    "from sklearn.linear_model import LinearRegression\n",
    "ml=LinearRegression()\n",
    "ml.fit(x_train,y_train)"
   ]
  },
  {
   "cell_type": "code",
   "execution_count": 24,
   "id": "a8eb023d",
   "metadata": {},
   "outputs": [
    {
     "name": "stdout",
     "output_type": "stream",
     "text": [
      "[  30.9485699   446.18922997  304.63280931  530.62570172  384.60969487\n",
      "  447.16453978  861.50344874  450.01326923  477.86934808  172.66723866\n",
      "  379.15393485  379.15393485   37.85686263  384.60969487 1574.44625231\n",
      "  942.06898845  142.07552053  447.16453978   69.91154547   69.91154547\n",
      "  512.01106753  581.08073006  188.27219564  588.06229871  450.01326923\n",
      "  174.69898234  362.21655407  237.43526608  134.03333502  364.76908124\n",
      "  566.90886318  145.97675978  320.89642802  379.64158975  142.56317544\n",
      "  450.01326923  316.01987897  352.88263626  316.01987897  569.37701232\n",
      "  379.15393485]\n"
     ]
    }
   ],
   "source": [
    "y_pred=ml.predict(x_test)\n",
    "print(y_pred)"
   ]
  },
  {
   "cell_type": "code",
   "execution_count": 25,
   "id": "d448bf05",
   "metadata": {},
   "outputs": [
    {
     "data": {
      "text/plain": [
       "0.7018512056288462"
      ]
     },
     "execution_count": 25,
     "metadata": {},
     "output_type": "execute_result"
    }
   ],
   "source": [
    "from sklearn.metrics import r2_score\n",
    "r2_score(y_test,y_pred)"
   ]
  },
  {
   "cell_type": "code",
   "execution_count": 26,
   "id": "99cd64dd",
   "metadata": {},
   "outputs": [
    {
     "data": {
      "text/plain": [
       "Text(0.5, 1.0, 'Actual vs. Predicted')"
      ]
     },
     "execution_count": 26,
     "metadata": {},
     "output_type": "execute_result"
    },
    {
     "data": {
      "image/png": "[encoded data removed]",
      "text/plain": [
       "<Figure size 1500x1000 with 1 Axes>"
      ]
     },
     "metadata": {},
     "output_type": "display_data"
    }
   ],
   "source": [
    "import matplotlib.pyplot as plt\n",
    "plt.figure(figsize=(15,10))\n",
    "plt.scatter(y_test,y_pred)\n",
    "plt.xlabel('Actual')\n",
    "plt.ylabel('Predicted')\n",
    "plt.title('Actual vs. Predicted')"
   ]
  },
  {
   "cell_type": "code",
   "execution_count": 27,
   "id": "0c11b083",
   "metadata": {},
   "outputs": [
    {
     "data": {
      "text/html": [
       "<div>\n",
       "<style scoped>\n",
       "    .dataframe tbody tr th:only-of-type {\n",
       "        vertical-align: middle;\n",
       "    }\n",
       "\n",
       "    .dataframe tbody tr th {\n",
       "        vertical-align: top;\n",
       "    }\n",
       "\n",
       "    .dataframe thead th {\n",
       "        text-align: right;\n",
       "    }\n",
       "</style>\n",
       "<table border=\"1\" class=\"dataframe\">\n",
       "  <thead>\n",
       "    <tr style=\"text-align: right;\">\n",
       "      <th></th>\n",
       "      <th>Actual Value</th>\n",
       "      <th>Predicted value</th>\n",
       "      <th>Difference</th>\n",
       "    </tr>\n",
       "  </thead>\n",
       "  <tbody>\n",
       "    <tr>\n",
       "      <th>0</th>\n",
       "      <td>179</td>\n",
       "      <td>30.948570</td>\n",
       "      <td>148.051430</td>\n",
       "    </tr>\n",
       "    <tr>\n",
       "      <th>1</th>\n",
       "      <td>289</td>\n",
       "      <td>446.189230</td>\n",
       "      <td>-157.189230</td>\n",
       "    </tr>\n",
       "    <tr>\n",
       "      <th>2</th>\n",
       "      <td>159</td>\n",
       "      <td>304.632809</td>\n",
       "      <td>-145.632809</td>\n",
       "    </tr>\n",
       "    <tr>\n",
       "      <th>3</th>\n",
       "      <td>349</td>\n",
       "      <td>530.625702</td>\n",
       "      <td>-181.625702</td>\n",
       "    </tr>\n",
       "    <tr>\n",
       "      <th>4</th>\n",
       "      <td>319</td>\n",
       "      <td>384.609695</td>\n",
       "      <td>-65.609695</td>\n",
       "    </tr>\n",
       "    <tr>\n",
       "      <th>5</th>\n",
       "      <td>329</td>\n",
       "      <td>447.164540</td>\n",
       "      <td>-118.164540</td>\n",
       "    </tr>\n",
       "    <tr>\n",
       "      <th>6</th>\n",
       "      <td>1099</td>\n",
       "      <td>861.503449</td>\n",
       "      <td>237.496551</td>\n",
       "    </tr>\n",
       "    <tr>\n",
       "      <th>7</th>\n",
       "      <td>449</td>\n",
       "      <td>450.013269</td>\n",
       "      <td>-1.013269</td>\n",
       "    </tr>\n",
       "    <tr>\n",
       "      <th>8</th>\n",
       "      <td>299</td>\n",
       "      <td>477.869348</td>\n",
       "      <td>-178.869348</td>\n",
       "    </tr>\n",
       "    <tr>\n",
       "      <th>9</th>\n",
       "      <td>139</td>\n",
       "      <td>172.667239</td>\n",
       "      <td>-33.667239</td>\n",
       "    </tr>\n",
       "    <tr>\n",
       "      <th>10</th>\n",
       "      <td>279</td>\n",
       "      <td>379.153935</td>\n",
       "      <td>-100.153935</td>\n",
       "    </tr>\n",
       "    <tr>\n",
       "      <th>11</th>\n",
       "      <td>219</td>\n",
       "      <td>379.153935</td>\n",
       "      <td>-160.153935</td>\n",
       "    </tr>\n",
       "    <tr>\n",
       "      <th>12</th>\n",
       "      <td>99</td>\n",
       "      <td>37.856863</td>\n",
       "      <td>61.143137</td>\n",
       "    </tr>\n",
       "    <tr>\n",
       "      <th>13</th>\n",
       "      <td>279</td>\n",
       "      <td>384.609695</td>\n",
       "      <td>-105.609695</td>\n",
       "    </tr>\n",
       "    <tr>\n",
       "      <th>14</th>\n",
       "      <td>1399</td>\n",
       "      <td>1574.446252</td>\n",
       "      <td>-175.446252</td>\n",
       "    </tr>\n",
       "    <tr>\n",
       "      <th>15</th>\n",
       "      <td>899</td>\n",
       "      <td>942.068988</td>\n",
       "      <td>-43.068988</td>\n",
       "    </tr>\n",
       "    <tr>\n",
       "      <th>16</th>\n",
       "      <td>159</td>\n",
       "      <td>142.075521</td>\n",
       "      <td>16.924479</td>\n",
       "    </tr>\n",
       "    <tr>\n",
       "      <th>17</th>\n",
       "      <td>309</td>\n",
       "      <td>447.164540</td>\n",
       "      <td>-138.164540</td>\n",
       "    </tr>\n",
       "    <tr>\n",
       "      <th>18</th>\n",
       "      <td>149</td>\n",
       "      <td>69.911545</td>\n",
       "      <td>79.088455</td>\n",
       "    </tr>\n",
       "    <tr>\n",
       "      <th>19</th>\n",
       "      <td>139</td>\n",
       "      <td>69.911545</td>\n",
       "      <td>69.088455</td>\n",
       "    </tr>\n",
       "  </tbody>\n",
       "</table>\n",
       "</div>"
      ],
      "text/plain": [
       "    Actual Value  Predicted value  Difference\n",
       "0            179        30.948570  148.051430\n",
       "1            289       446.189230 -157.189230\n",
       "2            159       304.632809 -145.632809\n",
       "3            349       530.625702 -181.625702\n",
       "4            319       384.609695  -65.609695\n",
       "5            329       447.164540 -118.164540\n",
       "6           1099       861.503449  237.496551\n",
       "7            449       450.013269   -1.013269\n",
       "8            299       477.869348 -178.869348\n",
       "9            139       172.667239  -33.667239\n",
       "10           279       379.153935 -100.153935\n",
       "11           219       379.153935 -160.153935\n",
       "12            99        37.856863   61.143137\n",
       "13           279       384.609695 -105.609695\n",
       "14          1399      1574.446252 -175.446252\n",
       "15           899       942.068988  -43.068988\n",
       "16           159       142.075521   16.924479\n",
       "17           309       447.164540 -138.164540\n",
       "18           149        69.911545   79.088455\n",
       "19           139        69.911545   69.088455"
      ]
     },
     "execution_count": 27,
     "metadata": {},
     "output_type": "execute_result"
    }
   ],
   "source": [
    "pred_y_df=pd.DataFrame({'Actual Value':y_test,'Predicted value':y_pred, 'Difference':y_test-y_pred})\n",
    "pred_y_df[0:20]"
   ]
  },
  {
   "cell_type": "code",
   "execution_count": null,
   "id": "50b5eb98",
   "metadata": {},
   "outputs": [],
   "source": []
  }
 ],
 "metadata": {
  "kernelspec": {
   "display_name": "Python 3 (ipykernel)",
   "language": "python",
   "name": "python3"
  },
  "language_info": {
   "codemirror_mode": {
    "name": "ipython",
    "version": 3
   },
   "file_extension": ".py",
   "mimetype": "text/x-python",
   "name": "python",
   "nbconvert_exporter": "python",
   "pygments_lexer": "ipython3",
   "version": "3.9.13"
  }
 },
 "nbformat": 4,
 "nbformat_minor": 5
}
